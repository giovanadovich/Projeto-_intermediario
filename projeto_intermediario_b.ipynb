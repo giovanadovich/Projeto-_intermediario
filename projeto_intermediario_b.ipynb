{
  "nbformat": 4,
  "nbformat_minor": 0,
  "metadata": {
    "colab": {
      "provenance": []
    },
    "kernelspec": {
      "name": "python3",
      "display_name": "Python 3"
    },
    "language_info": {
      "name": "python"
    }
  },
  "cells": [
    {
      "cell_type": "markdown",
      "source": [
        "###Instalando as Ferramentas Necessárias no Colab\n",
        "Instalar o AWS CLI, kubectl e eksctl no ambiente do Colab."
      ],
      "metadata": {
        "id": "EHp8QaDYDMPM"
      }
    },
    {
      "cell_type": "markdown",
      "source": [
        "Instalar AWS CLI"
      ],
      "metadata": {
        "id": "PDIiXcYNDV89"
      }
    },
    {
      "cell_type": "code",
      "execution_count": null,
      "metadata": {
        "id": "apbSZCbLRPg6"
      },
      "outputs": [],
      "source": [
        "# Baixar e instalar o AWS CLI versão 2\n",
        "!curl \"https://awscli.amazonaws.com/awscli-exe-linux-x86_64.zip\" -o \"awscliv2.zip\"\n",
        "!apt-get install -y unzip\n",
        "!unzip awscliv2.zip\n",
        "!sudo ./aws/install\n",
        "\n",
        "# Verificar a instalação\n",
        "!aws --version"
      ]
    },
    {
      "cell_type": "markdown",
      "source": [
        "Instalar kubectl"
      ],
      "metadata": {
        "id": "unM7bLA4DXzv"
      }
    },
    {
      "cell_type": "code",
      "source": [
        "# Baixar a versão mais recente do kubectl\n",
        "!curl -LO \"https://dl.k8s.io/release/$(curl -L -s https://dl.k8s.io/release/stable.txt)/bin/linux/amd64/kubectl\"\n",
        "\n",
        "# Tornar o kubectl executável\n",
        "!chmod +x kubectl\n",
        "\n",
        "# Mover o kubectl para um diretório no PATH\n",
        "!sudo mv kubectl /usr/local/bin/"
      ],
      "metadata": {
        "id": "_Vmw-92GRWam"
      },
      "execution_count": null,
      "outputs": []
    },
    {
      "cell_type": "markdown",
      "source": [
        "Instalar eksctl\n"
      ],
      "metadata": {
        "id": "8GwQnbXODa7L"
      }
    },
    {
      "cell_type": "code",
      "source": [
        "# Baixar e instalar o eksctl\n",
        "!curl --silent --location \"https://github.com/weaveworks/eksctl/releases/latest/download/eksctl_Linux_amd64.tar.gz\" | tar xz -C /tmp\n",
        "!sudo mv /tmp/eksctl /usr/local/bin\n",
        "\n",
        "# Verificar a instalação\n",
        "!eksctl version"
      ],
      "metadata": {
        "id": "MprlAQrERZ5y"
      },
      "execution_count": null,
      "outputs": []
    },
    {
      "cell_type": "markdown",
      "source": [
        "###Configurando as Credenciais AWS no Colab"
      ],
      "metadata": {
        "id": "vrKYal03DiVJ"
      }
    },
    {
      "cell_type": "code",
      "source": [
        "import getpass\n",
        "\n",
        "# Inserir Access Key ID\n",
        "access_key = getpass.getpass('Insira sua AWS Access Key ID: ')\n",
        "\n",
        "# Inserir Secret Access Key\n",
        "secret_key = getpass.getpass('Insira sua AWS Secret Access Key: ')"
      ],
      "metadata": {
        "id": "nLA430s3RZ2g"
      },
      "execution_count": null,
      "outputs": []
    },
    {
      "cell_type": "markdown",
      "source": [
        "###Configurar o AWS CLI com as Credenciais\n"
      ],
      "metadata": {
        "id": "P-C-buotDoyP"
      }
    },
    {
      "cell_type": "code",
      "source": [
        "# Configurar o AWS CLI com as credenciais fornecidas\n",
        "!aws configure set aws_access_key_id {access_key}\n",
        "!aws configure set aws_secret_access_key {secret_key}\n",
        "\n",
        "# Definir a região padrão (substitua conforme necessário)\n",
        "!aws configure set region us-west-2\n",
        "\n",
        "# Verificar a configuração\n",
        "!aws sts get-caller-identity"
      ],
      "metadata": {
        "id": "1AGin5GwRZqs"
      },
      "execution_count": null,
      "outputs": []
    },
    {
      "cell_type": "code",
      "source": [
        "!chmod 400 chave_4.pem"
      ],
      "metadata": {
        "id": "qIyJzk3jU_tP"
      },
      "execution_count": 18,
      "outputs": []
    },
    {
      "cell_type": "markdown",
      "source": [
        "###Criando o Cluster EKS com eksctl\n",
        "Criar um cluster EKS chamado web-server-cluster na região us-west-2."
      ],
      "metadata": {
        "id": "A7aqybvFD1z1"
      }
    },
    {
      "cell_type": "code",
      "source": [
        "# Criar o cluster EKS\n",
        "!eksctl create cluster \\\n",
        "  --name web-server-cluster \\\n",
        "  --version 1.24 \\\n",
        "  --region us-west-2 \\\n",
        "  --nodegroup-name web-server-nodes \\\n",
        "  --node-type t3.medium \\\n",
        "  --nodes 3 \\\n",
        "  --nodes-min 1 \\\n",
        "  --nodes-max 4 \\\n",
        "  --managed \\\n",
        "  --ssh-access \\\n",
        "  --ssh-public-key chave_4.pem"
      ],
      "metadata": {
        "id": "Mi71vVNpRw19"
      },
      "execution_count": null,
      "outputs": []
    },
    {
      "cell_type": "markdown",
      "source": [
        "###Configurando o kubectl para Acessar o Cluster"
      ],
      "metadata": {
        "id": "zK1va_A0EQ_s"
      }
    },
    {
      "cell_type": "code",
      "source": [
        "# Atualizar o contexto do kubectl\n",
        "!eksctl utils write-kubeconfig --cluster=web-server-cluster --region=us-west-2"
      ],
      "metadata": {
        "id": "tjcT9JxdR1el"
      },
      "execution_count": null,
      "outputs": []
    },
    {
      "cell_type": "markdown",
      "source": [
        "Verificar a Conexão com o Cluster"
      ],
      "metadata": {
        "id": "2fwepoacEUeM"
      }
    },
    {
      "cell_type": "code",
      "source": [
        "# Listar os nós do cluster\n",
        "!kubectl get nodes"
      ],
      "metadata": {
        "id": "azwqq6cJR3Hk"
      },
      "execution_count": null,
      "outputs": []
    },
    {
      "cell_type": "markdown",
      "source": [
        "###Implantando o Servidor Web (Nginx) no Cluster\n",
        "Criar um Deployment e um Service para o Nginx.\n",
        "\n",
        "a. Criar o Deployment e Service"
      ],
      "metadata": {
        "id": "EVAldNP8EaCT"
      }
    },
    {
      "cell_type": "code",
      "source": [
        "# Definir o YAML do Deployment e Service\n",
        "nginx_deployment = \"\"\"\n",
        "apiVersion: apps/v1\n",
        "kind: Deployment\n",
        "metadata:\n",
        "  name: nginx-deployment\n",
        "spec:\n",
        "  replicas: 2\n",
        "  selector:\n",
        "    matchLabels:\n",
        "      app: nginx\n",
        "  template:\n",
        "    metadata:\n",
        "      labels:\n",
        "        app: nginx\n",
        "    spec:\n",
        "      containers:\n",
        "      - name: nginx\n",
        "        image: nginx:1.21\n",
        "        ports:\n",
        "        - containerPort: 80\n",
        "        resources:\n",
        "          requests:\n",
        "            cpu: \"100m\"\n",
        "          limits:\n",
        "            cpu: \"500m\"\n",
        "---\n",
        "apiVersion: v1\n",
        "kind: Service\n",
        "metadata:\n",
        "  name: nginx-service\n",
        "spec:\n",
        "  selector:\n",
        "    app: nginx\n",
        "  ports:\n",
        "    - protocol: TCP\n",
        "      port: 80\n",
        "      targetPort: 80\n",
        "  type: LoadBalancer\n",
        "\"\"\"\n",
        "\n",
        "# Salvar o YAML em um arquivo\n",
        "with open('nginx-deployment.yaml', 'w') as f:\n",
        "    f.write(nginx_deployment)\n",
        "\n",
        "# Aplicar o Deployment e Service\n",
        "!kubectl apply -f nginx-deployment.yaml"
      ],
      "metadata": {
        "id": "ZQQxgCzgR55T"
      },
      "execution_count": null,
      "outputs": []
    },
    {
      "cell_type": "markdown",
      "source": [
        "Verificar os Pods e Serviços"
      ],
      "metadata": {
        "id": "dWacgp64Ehep"
      }
    },
    {
      "cell_type": "code",
      "source": [
        "# Verificar os pods\n",
        "!kubectl get pods\n",
        "\n",
        "# Verificar os serviços\n",
        "!kubectl get services"
      ],
      "metadata": {
        "id": "16j9EMFEEh7V"
      },
      "execution_count": null,
      "outputs": []
    },
    {
      "cell_type": "markdown",
      "source": [
        "###Configurando o Autoescalamento Horizontal (HPA)\n",
        "O Horizontal Pod Autoscaler (HPA) ajusta automaticamente o número de réplicas de um Deployment com base no uso de CPU ou outras métricas.\n",
        "\n",
        "a. Instalar o Metrics Server\n",
        "O HPA depende do Metrics Server para obter métricas de utilização de recursos."
      ],
      "metadata": {
        "id": "7nbIBjl6EmVO"
      }
    },
    {
      "cell_type": "code",
      "source": [
        "# Instalar o Metrics Server\n",
        "!kubectl apply -f https://github.com/kubernetes-sigs/metrics-server/releases/latest/download/components.yaml\n",
        "\n",
        "# Verificar se o Metrics Server está funcionando\n",
        "!kubectl get deployment metrics-server -n kube-system"
      ],
      "metadata": {
        "id": "lxLlB1vZEnmj"
      },
      "execution_count": null,
      "outputs": []
    },
    {
      "cell_type": "markdown",
      "source": [
        "Criar o HPA para o Deployment Nginx"
      ],
      "metadata": {
        "id": "QZ7ZAnHrEzwJ"
      }
    },
    {
      "cell_type": "code",
      "source": [
        "# Criar o HPA\n",
        "!kubectl autoscale deployment nginx-deployment --cpu-percent=50 --min=2 --max=10\n",
        "\n",
        "# Verificar o HPA\n",
        "!kubectl get hpa"
      ],
      "metadata": {
        "id": "ItPK-iiXE30I"
      },
      "execution_count": null,
      "outputs": []
    },
    {
      "cell_type": "markdown",
      "source": [
        "###Testando o Autoescalamento\n",
        "Para verificar se o HPA está funcionando corretamente, é possível gerar carga no servidor Nginx e observar como o número de réplicas aumenta.\n",
        "\n",
        "a. Gerar Carga no Servidor Nginx"
      ],
      "metadata": {
        "id": "K5ga3cqNE9xF"
      }
    },
    {
      "cell_type": "code",
      "source": [
        "# Executar um pod temporário para gerar carga\n",
        "!kubectl run -i --tty load-generator --image=busybox -- /bin/sh -c \"while true; do wget -q -O- http://nginx-service; done\""
      ],
      "metadata": {
        "id": "q3zEBxCJE_2-"
      },
      "execution_count": null,
      "outputs": []
    },
    {
      "cell_type": "markdown",
      "source": [
        "###Monitorar o HPA\n",
        "Em outra célula, monitore o HPA para ver as réplicas sendo ajustadas."
      ],
      "metadata": {
        "id": "LDhcf6chFHCG"
      }
    },
    {
      "cell_type": "code",
      "source": [
        "!kubectl get hpa nginx-deployment --watch"
      ],
      "metadata": {
        "id": "JbCdbXycFKW_"
      },
      "execution_count": null,
      "outputs": []
    },
    {
      "cell_type": "markdown",
      "source": [
        "###Acessando o Servidor Web\n",
        "Depois de implantado, acessar o servidor web usando o endereço EXTERNAL-IP do serviço nginx-service."
      ],
      "metadata": {
        "id": "4z8iAwCPFP5y"
      }
    },
    {
      "cell_type": "code",
      "source": [
        "# Obter o EXTERNAL-IP do serviço\n",
        "!kubectl get service nginx-service"
      ],
      "metadata": {
        "id": "1yanccgwFU6G"
      },
      "execution_count": null,
      "outputs": []
    },
    {
      "cell_type": "markdown",
      "source": [
        "###Limpeza dos Recursos\n",
        "Após concluir os testes, é importante destruir o cluster EKS para evitar cobranças indesejadas.\n",
        "\n"
      ],
      "metadata": {
        "id": "61CSoNGlFUYv"
      }
    },
    {
      "cell_type": "code",
      "source": [
        "# Destruir o cluster EKS\n",
        "!eksctl delete cluster --name web-server-cluster --region us-west-2"
      ],
      "metadata": {
        "id": "w8zlpwd6FbRL"
      },
      "execution_count": null,
      "outputs": []
    }
  ]
}